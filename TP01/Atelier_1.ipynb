{
 "cells": [
  {
   "cell_type": "markdown",
   "metadata": {},
   "source": [
    "# Atelier 01 : Apprentissage supervisé avec Python"
   ]
  },
  {
   "cell_type": "markdown",
   "metadata": {},
   "source": [
    "- Data Preprocessing (données hétérogènes, données manquantes, etc.)\n",
    "- Feature engineering\n",
    "- Feature selection\n",
    "- Classification\n",
    "- Evaluation de la qualité d’un classifieur"
   ]
  },
  {
   "cell_type": "markdown",
   "metadata": {},
   "source": [
    "<h2> I. Apprentissage supervisé : Feature engineering et Classification"
   ]
  },
  {
   "cell_type": "markdown",
   "metadata": {
    "vscode": {
     "languageId": "plaintext"
    }
   },
   "source": [
    "<h4> 1. Chargement des données et préparation"
   ]
  },
  {
   "cell_type": "code",
   "execution_count": 114,
   "metadata": {},
   "outputs": [],
   "source": [
    "#import libraries\n",
    "import numpy as np\n",
    "np.set_printoptions(threshold=10000,suppress=True)\n",
    "import pandas as pd\n",
    "import warnings\n",
    "import matplotlib.pyplot as plt\n",
    "warnings.filterwarnings('ignore')"
   ]
  },
  {
   "cell_type": "code",
   "execution_count": 115,
   "metadata": {},
   "outputs": [
    {
     "data": {
      "text/html": [
       "<div>\n",
       "<style scoped>\n",
       "    .dataframe tbody tr th:only-of-type {\n",
       "        vertical-align: middle;\n",
       "    }\n",
       "\n",
       "    .dataframe tbody tr th {\n",
       "        vertical-align: top;\n",
       "    }\n",
       "\n",
       "    .dataframe thead th {\n",
       "        text-align: right;\n",
       "    }\n",
       "</style>\n",
       "<table border=\"1\" class=\"dataframe\">\n",
       "  <thead>\n",
       "    <tr style=\"text-align: right;\">\n",
       "      <th></th>\n",
       "      <th>Seniority</th>\n",
       "      <th>Home</th>\n",
       "      <th>Time</th>\n",
       "      <th>Age</th>\n",
       "      <th>Marital</th>\n",
       "      <th>Records</th>\n",
       "      <th>Job</th>\n",
       "      <th>Expenses</th>\n",
       "      <th>Income</th>\n",
       "      <th>Assets</th>\n",
       "      <th>Debt</th>\n",
       "      <th>Amount</th>\n",
       "      <th>Price</th>\n",
       "      <th>Status</th>\n",
       "    </tr>\n",
       "  </thead>\n",
       "  <tbody>\n",
       "    <tr>\n",
       "      <th>0</th>\n",
       "      <td>9.0</td>\n",
       "      <td>1.0</td>\n",
       "      <td>60.0</td>\n",
       "      <td>30.0</td>\n",
       "      <td>0.0</td>\n",
       "      <td>1.0</td>\n",
       "      <td>1.0</td>\n",
       "      <td>73.0</td>\n",
       "      <td>129.0</td>\n",
       "      <td>0.0</td>\n",
       "      <td>0.0</td>\n",
       "      <td>800.0</td>\n",
       "      <td>846.0</td>\n",
       "      <td>1</td>\n",
       "    </tr>\n",
       "    <tr>\n",
       "      <th>1</th>\n",
       "      <td>17.0</td>\n",
       "      <td>1.0</td>\n",
       "      <td>60.0</td>\n",
       "      <td>58.0</td>\n",
       "      <td>1.0</td>\n",
       "      <td>1.0</td>\n",
       "      <td>0.0</td>\n",
       "      <td>48.0</td>\n",
       "      <td>131.0</td>\n",
       "      <td>0.0</td>\n",
       "      <td>0.0</td>\n",
       "      <td>1000.0</td>\n",
       "      <td>1658.0</td>\n",
       "      <td>1</td>\n",
       "    </tr>\n",
       "    <tr>\n",
       "      <th>2</th>\n",
       "      <td>10.0</td>\n",
       "      <td>0.0</td>\n",
       "      <td>36.0</td>\n",
       "      <td>46.0</td>\n",
       "      <td>0.0</td>\n",
       "      <td>2.0</td>\n",
       "      <td>1.0</td>\n",
       "      <td>90.0</td>\n",
       "      <td>200.0</td>\n",
       "      <td>3000.0</td>\n",
       "      <td>0.0</td>\n",
       "      <td>2000.0</td>\n",
       "      <td>2985.0</td>\n",
       "      <td>0</td>\n",
       "    </tr>\n",
       "    <tr>\n",
       "      <th>3</th>\n",
       "      <td>0.0</td>\n",
       "      <td>1.0</td>\n",
       "      <td>60.0</td>\n",
       "      <td>24.0</td>\n",
       "      <td>1.0</td>\n",
       "      <td>1.0</td>\n",
       "      <td>0.0</td>\n",
       "      <td>63.0</td>\n",
       "      <td>182.0</td>\n",
       "      <td>2500.0</td>\n",
       "      <td>0.0</td>\n",
       "      <td>900.0</td>\n",
       "      <td>1325.0</td>\n",
       "      <td>1</td>\n",
       "    </tr>\n",
       "    <tr>\n",
       "      <th>4</th>\n",
       "      <td>0.0</td>\n",
       "      <td>1.0</td>\n",
       "      <td>36.0</td>\n",
       "      <td>26.0</td>\n",
       "      <td>1.0</td>\n",
       "      <td>1.0</td>\n",
       "      <td>0.0</td>\n",
       "      <td>46.0</td>\n",
       "      <td>107.0</td>\n",
       "      <td>0.0</td>\n",
       "      <td>0.0</td>\n",
       "      <td>310.0</td>\n",
       "      <td>910.0</td>\n",
       "      <td>1</td>\n",
       "    </tr>\n",
       "    <tr>\n",
       "      <th>...</th>\n",
       "      <td>...</td>\n",
       "      <td>...</td>\n",
       "      <td>...</td>\n",
       "      <td>...</td>\n",
       "      <td>...</td>\n",
       "      <td>...</td>\n",
       "      <td>...</td>\n",
       "      <td>...</td>\n",
       "      <td>...</td>\n",
       "      <td>...</td>\n",
       "      <td>...</td>\n",
       "      <td>...</td>\n",
       "      <td>...</td>\n",
       "      <td>...</td>\n",
       "    </tr>\n",
       "    <tr>\n",
       "      <th>4370</th>\n",
       "      <td>1.0</td>\n",
       "      <td>1.0</td>\n",
       "      <td>60.0</td>\n",
       "      <td>39.0</td>\n",
       "      <td>0.0</td>\n",
       "      <td>1.0</td>\n",
       "      <td>0.0</td>\n",
       "      <td>69.0</td>\n",
       "      <td>92.0</td>\n",
       "      <td>0.0</td>\n",
       "      <td>0.0</td>\n",
       "      <td>900.0</td>\n",
       "      <td>1020.0</td>\n",
       "      <td>0</td>\n",
       "    </tr>\n",
       "    <tr>\n",
       "      <th>4371</th>\n",
       "      <td>22.0</td>\n",
       "      <td>0.0</td>\n",
       "      <td>60.0</td>\n",
       "      <td>46.0</td>\n",
       "      <td>0.0</td>\n",
       "      <td>1.0</td>\n",
       "      <td>0.0</td>\n",
       "      <td>60.0</td>\n",
       "      <td>75.0</td>\n",
       "      <td>3000.0</td>\n",
       "      <td>600.0</td>\n",
       "      <td>950.0</td>\n",
       "      <td>1263.0</td>\n",
       "      <td>1</td>\n",
       "    </tr>\n",
       "    <tr>\n",
       "      <th>4372</th>\n",
       "      <td>0.0</td>\n",
       "      <td>0.0</td>\n",
       "      <td>24.0</td>\n",
       "      <td>37.0</td>\n",
       "      <td>0.0</td>\n",
       "      <td>1.0</td>\n",
       "      <td>1.0</td>\n",
       "      <td>60.0</td>\n",
       "      <td>90.0</td>\n",
       "      <td>3500.0</td>\n",
       "      <td>0.0</td>\n",
       "      <td>500.0</td>\n",
       "      <td>963.0</td>\n",
       "      <td>0</td>\n",
       "    </tr>\n",
       "    <tr>\n",
       "      <th>4373</th>\n",
       "      <td>0.0</td>\n",
       "      <td>1.0</td>\n",
       "      <td>48.0</td>\n",
       "      <td>23.0</td>\n",
       "      <td>1.0</td>\n",
       "      <td>1.0</td>\n",
       "      <td>1.0</td>\n",
       "      <td>49.0</td>\n",
       "      <td>140.0</td>\n",
       "      <td>0.0</td>\n",
       "      <td>0.0</td>\n",
       "      <td>550.0</td>\n",
       "      <td>550.0</td>\n",
       "      <td>1</td>\n",
       "    </tr>\n",
       "    <tr>\n",
       "      <th>4374</th>\n",
       "      <td>5.0</td>\n",
       "      <td>0.0</td>\n",
       "      <td>60.0</td>\n",
       "      <td>32.0</td>\n",
       "      <td>0.0</td>\n",
       "      <td>1.0</td>\n",
       "      <td>1.0</td>\n",
       "      <td>60.0</td>\n",
       "      <td>140.0</td>\n",
       "      <td>4000.0</td>\n",
       "      <td>1000.0</td>\n",
       "      <td>1350.0</td>\n",
       "      <td>1650.0</td>\n",
       "      <td>1</td>\n",
       "    </tr>\n",
       "  </tbody>\n",
       "</table>\n",
       "<p>4375 rows × 14 columns</p>\n",
       "</div>"
      ],
      "text/plain": [
       "      Seniority  Home  Time   Age  Marital  Records  Job  Expenses  Income  \\\n",
       "0           9.0   1.0  60.0  30.0      0.0      1.0  1.0      73.0   129.0   \n",
       "1          17.0   1.0  60.0  58.0      1.0      1.0  0.0      48.0   131.0   \n",
       "2          10.0   0.0  36.0  46.0      0.0      2.0  1.0      90.0   200.0   \n",
       "3           0.0   1.0  60.0  24.0      1.0      1.0  0.0      63.0   182.0   \n",
       "4           0.0   1.0  36.0  26.0      1.0      1.0  0.0      46.0   107.0   \n",
       "...         ...   ...   ...   ...      ...      ...  ...       ...     ...   \n",
       "4370        1.0   1.0  60.0  39.0      0.0      1.0  0.0      69.0    92.0   \n",
       "4371       22.0   0.0  60.0  46.0      0.0      1.0  0.0      60.0    75.0   \n",
       "4372        0.0   0.0  24.0  37.0      0.0      1.0  1.0      60.0    90.0   \n",
       "4373        0.0   1.0  48.0  23.0      1.0      1.0  1.0      49.0   140.0   \n",
       "4374        5.0   0.0  60.0  32.0      0.0      1.0  1.0      60.0   140.0   \n",
       "\n",
       "      Assets    Debt  Amount   Price  Status  \n",
       "0        0.0     0.0   800.0   846.0       1  \n",
       "1        0.0     0.0  1000.0  1658.0       1  \n",
       "2     3000.0     0.0  2000.0  2985.0       0  \n",
       "3     2500.0     0.0   900.0  1325.0       1  \n",
       "4        0.0     0.0   310.0   910.0       1  \n",
       "...      ...     ...     ...     ...     ...  \n",
       "4370     0.0     0.0   900.0  1020.0       0  \n",
       "4371  3000.0   600.0   950.0  1263.0       1  \n",
       "4372  3500.0     0.0   500.0   963.0       0  \n",
       "4373     0.0     0.0   550.0   550.0       1  \n",
       "4374  4000.0  1000.0  1350.0  1650.0       1  \n",
       "\n",
       "[4375 rows x 14 columns]"
      ]
     },
     "execution_count": 115,
     "metadata": {},
     "output_type": "execute_result"
    }
   ],
   "source": [
    "data = pd.read_csv(\"credit_scoring.csv\", sep=';')\n",
    "data"
   ]
  },
  {
   "cell_type": "code",
   "execution_count": 116,
   "metadata": {},
   "outputs": [
    {
     "data": {
      "text/plain": [
       "(4375, 14)"
      ]
     },
     "execution_count": 116,
     "metadata": {},
     "output_type": "execute_result"
    }
   ],
   "source": [
    "data.shape"
   ]
  },
  {
   "cell_type": "code",
   "execution_count": 117,
   "metadata": {},
   "outputs": [],
   "source": [
    "# séparation des variables caractéristiques de la variable à prédire\n",
    "y = data[\"Status\"]\n",
    "X = data.drop(\"Status\", axis=1)"
   ]
  },
  {
   "cell_type": "code",
   "execution_count": 118,
   "metadata": {},
   "outputs": [],
   "source": [
    "# transformation du DATAFRAME en ARRAY\n",
    "y = y.to_numpy()\n",
    "X = X.to_numpy()"
   ]
  },
  {
   "cell_type": "code",
   "execution_count": 119,
   "metadata": {},
   "outputs": [
    {
     "name": "stdout",
     "output_type": "stream",
     "text": [
      "Taille des donnees\n",
      "X shape:  (4375, 13)\n",
      "y shape:  (4375,)\n",
      "Pourcentage de chaque classe\n",
      "1    0.722057\n",
      "0    0.277943\n",
      "Name: Status, dtype: float64\n"
     ]
    }
   ],
   "source": [
    "# print the shape\n",
    "print(\"Taille des donnees\")\n",
    "print(\"X shape: \", X.shape)\n",
    "print(\"y shape: \", y.shape)\n",
    "# pourcentage de chaque classe\n",
    "print(\"Pourcentage de chaque classe\")\n",
    "print(data[\"Status\"].value_counts(normalize=True))\n"
   ]
  },
  {
   "cell_type": "code",
   "execution_count": 120,
   "metadata": {},
   "outputs": [
    {
     "data": {
      "text/plain": [
       "array([[   2.,    1.,   48., ...,    0., 1100., 1464.],\n",
       "       [  15.,    0.,   24., ...,    0.,  590., 1793.],\n",
       "       [   1.,    1.,   48., ...,    0., 1300., 1533.],\n",
       "       ...,\n",
       "       [  11.,    1.,   12., ...,    0.,  300., 1479.],\n",
       "       [   0.,    1.,   48., ...,    0.,  600., 1452.],\n",
       "       [   1.,    1.,   36., ...,    0., 1200., 2186.]])"
      ]
     },
     "execution_count": 120,
     "metadata": {},
     "output_type": "execute_result"
    }
   ],
   "source": [
    "# split the dataset to train and test\n",
    "from sklearn.model_selection import train_test_split\n",
    "X_train, X_test, y_train, y_test = train_test_split(X, y, test_size=0.5, random_state=1)\n",
    "X_train"
   ]
  },
  {
   "cell_type": "markdown",
   "metadata": {},
   "source": [
    "<h4>2. Apprentissage et évaluation de modèles"
   ]
  },
  {
   "cell_type": "code",
   "execution_count": 121,
   "metadata": {},
   "outputs": [],
   "source": [
    "from sklearn.metrics import confusion_matrix, accuracy_score, precision_score, recall_score, f1_score\n",
    "\n",
    "# Métrique de performance\n",
    "def metric(y_true, y_pred):\n",
    "    return (accuracy_score(y_true, y_pred) + precision_score(y_true, y_pred)) / 2\n"
   ]
  },
  {
   "cell_type": "code",
   "execution_count": null,
   "metadata": {},
   "outputs": [
    {
     "data": {
      "text/plain": [
       "<Figure size 640x480 with 0 Axes>"
      ]
     },
     "metadata": {},
     "output_type": "display_data"
    },
    {
     "data": {
      "image/png": "[encoded data removed]",
      "text/plain": [
       "<Figure size 480x480 with 2 Axes>"
      ]
     },
     "metadata": {},
     "output_type": "display_data"
    },
    {
     "data": {
      "text/plain": [
       "<Figure size 640x480 with 0 Axes>"
      ]
     },
     "metadata": {},
     "output_type": "display_data"
    },
    {
     "data": {
      "image/png": "[encoded data removed]",
      "text/plain": [
       "<Figure size 480x480 with 2 Axes>"
      ]
     },
     "metadata": {},
     "output_type": "display_data"
    },
    {
     "data": {
      "text/plain": [
       "<Figure size 640x480 with 0 Axes>"
      ]
     },
     "metadata": {},
     "output_type": "display_data"
    },
    {
     "data": {
      "image/png": "[encoded data removed]",
      "text/plain": [
       "<Figure size 480x480 with 2 Axes>"
      ]
     },
     "metadata": {},
     "output_type": "display_data"
    },
    {
     "data": {
      "text/html": [
       "<div>\n",
       "<style scoped>\n",
       "    .dataframe tbody tr th:only-of-type {\n",
       "        vertical-align: middle;\n",
       "    }\n",
       "\n",
       "    .dataframe tbody tr th {\n",
       "        vertical-align: top;\n",
       "    }\n",
       "\n",
       "    .dataframe thead th {\n",
       "        text-align: right;\n",
       "    }\n",
       "</style>\n",
       "<table border=\"1\" class=\"dataframe\">\n",
       "  <thead>\n",
       "    <tr style=\"text-align: right;\">\n",
       "      <th></th>\n",
       "      <th>Accuracy</th>\n",
       "      <th>Precision</th>\n",
       "      <th>Recall</th>\n",
       "      <th>Metric</th>\n",
       "      <th>F1-Score</th>\n",
       "    </tr>\n",
       "  </thead>\n",
       "  <tbody>\n",
       "    <tr>\n",
       "      <th>CART</th>\n",
       "      <td>0.727148</td>\n",
       "      <td>0.819417</td>\n",
       "      <td>0.799242</td>\n",
       "      <td>0.773283</td>\n",
       "      <td>0.809204</td>\n",
       "    </tr>\n",
       "    <tr>\n",
       "      <th>KNN</th>\n",
       "      <td>0.724863</td>\n",
       "      <td>0.770971</td>\n",
       "      <td>0.881944</td>\n",
       "      <td>0.747917</td>\n",
       "      <td>0.822733</td>\n",
       "    </tr>\n",
       "    <tr>\n",
       "      <th>MLP</th>\n",
       "      <td>0.710238</td>\n",
       "      <td>0.814153</td>\n",
       "      <td>0.777146</td>\n",
       "      <td>0.762196</td>\n",
       "      <td>0.795220</td>\n",
       "    </tr>\n",
       "  </tbody>\n",
       "</table>\n",
       "</div>"
      ],
      "text/plain": [
       "      Accuracy  Precision    Recall    Metric  F1-Score\n",
       "CART  0.727148   0.819417  0.799242  0.773283  0.809204\n",
       "KNN   0.724863   0.770971  0.881944  0.747917  0.822733\n",
       "MLP   0.710238   0.814153  0.777146  0.762196  0.795220"
      ]
     },
     "execution_count": 139,
     "metadata": {},
     "output_type": "execute_result"
    }
   ],
   "source": [
    "from sklearn.tree import DecisionTreeClassifier\n",
    "from sklearn.neighbors import KNeighborsClassifier\n",
    "from sklearn.neural_network import MLPClassifier\n",
    "\n",
    "def compare_models(X_train, X_test, y_train, y_test):\n",
    "    models = {\n",
    "        'CART': DecisionTreeClassifier(random_state=1),\n",
    "        'KNN': KNeighborsClassifier(n_neighbors=5),\n",
    "        'MLP': MLPClassifier(hidden_layer_sizes=(40, 20), random_state=1)\n",
    "    }\n",
    "    # save into a dataframe\n",
    "    results = pd.DataFrame(columns=['Accuracy', 'Precision', 'Recall', 'Metric', 'F1-Score'])\n",
    "    for name, model in models.items():\n",
    "        model.fit(X_train, y_train)\n",
    "        y_pred = model.predict(X_test)\n",
    "        \n",
    "        # plot the confusion matrix\n",
    "        plt.figure()\n",
    "        cm = confusion_matrix(y_test, y_pred)\n",
    "        plt.matshow(cm, cmap=plt.cm.Blues)\n",
    "        for i in range(cm.shape[0]):\n",
    "            for j in range(cm.shape[1]):\n",
    "                plt.text(x=j, y=i, s=cm[i, j], va='center', ha='center')\n",
    "        plt.colorbar()\n",
    "        plt.title(name)\n",
    "        plt.ylabel('True label')\n",
    "        plt.xlabel('Predicted label')\n",
    "        plt.show()\n",
    "        \n",
    "        results.loc[name] = [accuracy_score(y_test, y_pred), precision_score(y_test, y_pred), recall_score(y_test, y_pred), metric(y_test, y_pred), f1_score(y_test, y_pred)]\n",
    "    return results\n",
    "\n",
    "compare_models(X_train, X_test, y_train, y_test)"
   ]
  },
  {
   "cell_type": "markdown",
   "metadata": {},
   "source": [
    "Dans le cadre du crédit scoring, il est important de choisir un modèle en fonction des besoins spécifiques de la banque, ce qui reviens a choisir un model avec une precision élevée, garantissant que les crédits accordés le sont à des personnes plus fiables."
   ]
  },
  {
   "cell_type": "markdown",
   "metadata": {},
   "source": [
    "Ici c'est le cart qui est plus adequat avec selon la precision mais ceci n'est pas suffissant pour dire que c'est le meilleur"
   ]
  },
  {
   "cell_type": "markdown",
   "metadata": {},
   "source": [
    "<h4>3. Normalisation des variables continues"
   ]
  },
  {
   "cell_type": "code",
   "execution_count": 140,
   "metadata": {},
   "outputs": [
    {
     "data": {
      "text/plain": [
       "<Figure size 640x480 with 0 Axes>"
      ]
     },
     "metadata": {},
     "output_type": "display_data"
    },
    {
     "data": {
      "image/png": "[encoded data removed]",
      "text/plain": [
       "<Figure size 480x480 with 2 Axes>"
      ]
     },
     "metadata": {},
     "output_type": "display_data"
    },
    {
     "data": {
      "text/plain": [
       "<Figure size 640x480 with 0 Axes>"
      ]
     },
     "metadata": {},
     "output_type": "display_data"
    },
    {
     "data": {
      "image/png": "[encoded data removed]",
      "text/plain": [
       "<Figure size 480x480 with 2 Axes>"
      ]
     },
     "metadata": {},
     "output_type": "display_data"
    },
    {
     "data": {
      "text/plain": [
       "<Figure size 640x480 with 0 Axes>"
      ]
     },
     "metadata": {},
     "output_type": "display_data"
    },
    {
     "data": {
      "image/png": "[encoded data removed]",
      "text/plain": [
       "<Figure size 480x480 with 2 Axes>"
      ]
     },
     "metadata": {},
     "output_type": "display_data"
    },
    {
     "data": {
      "text/html": [
       "<div>\n",
       "<style scoped>\n",
       "    .dataframe tbody tr th:only-of-type {\n",
       "        vertical-align: middle;\n",
       "    }\n",
       "\n",
       "    .dataframe tbody tr th {\n",
       "        vertical-align: top;\n",
       "    }\n",
       "\n",
       "    .dataframe thead th {\n",
       "        text-align: right;\n",
       "    }\n",
       "</style>\n",
       "<table border=\"1\" class=\"dataframe\">\n",
       "  <thead>\n",
       "    <tr style=\"text-align: right;\">\n",
       "      <th></th>\n",
       "      <th>Accuracy</th>\n",
       "      <th>Precision</th>\n",
       "      <th>Recall</th>\n",
       "      <th>Metric</th>\n",
       "      <th>F1-Score</th>\n",
       "    </tr>\n",
       "  </thead>\n",
       "  <tbody>\n",
       "    <tr>\n",
       "      <th>CART</th>\n",
       "      <td>0.727148</td>\n",
       "      <td>0.818182</td>\n",
       "      <td>0.801136</td>\n",
       "      <td>0.772665</td>\n",
       "      <td>0.809569</td>\n",
       "    </tr>\n",
       "    <tr>\n",
       "      <th>KNN</th>\n",
       "      <td>0.752742</td>\n",
       "      <td>0.810602</td>\n",
       "      <td>0.859217</td>\n",
       "      <td>0.781672</td>\n",
       "      <td>0.834202</td>\n",
       "    </tr>\n",
       "    <tr>\n",
       "      <th>MLP</th>\n",
       "      <td>0.776508</td>\n",
       "      <td>0.838172</td>\n",
       "      <td>0.856692</td>\n",
       "      <td>0.807340</td>\n",
       "      <td>0.847331</td>\n",
       "    </tr>\n",
       "  </tbody>\n",
       "</table>\n",
       "</div>"
      ],
      "text/plain": [
       "      Accuracy  Precision    Recall    Metric  F1-Score\n",
       "CART  0.727148   0.818182  0.801136  0.772665  0.809569\n",
       "KNN   0.752742   0.810602  0.859217  0.781672  0.834202\n",
       "MLP   0.776508   0.838172  0.856692  0.807340  0.847331"
      ]
     },
     "execution_count": 140,
     "metadata": {},
     "output_type": "execute_result"
    }
   ],
   "source": [
    "from sklearn.preprocessing import StandardScaler\n",
    "\n",
    "scaler = StandardScaler()\n",
    "X_train_scaled = scaler.fit_transform(X_train)\n",
    "X_test_scaled = scaler.transform(X_test)\n",
    "\n",
    "compare_models(X_train_scaled, X_test_scaled, y_train, y_test)"
   ]
  },
  {
   "cell_type": "markdown",
   "metadata": {},
   "source": [
    "<p> La normalisation a eu peu d'impact sur les performances de CART mais a significativement amélioré celles de KNN et MLPC, deux modèles dépendants des distances ou des gradients. Pour des données non normalisées, CART semble performant. Cependant, après normalisation, KNN et MLPC surpassent CART, en particulier MLPC qui affiche l'accuracy et le rappel les plus élevés."
   ]
  },
  {
   "cell_type": "markdown",
   "metadata": {},
   "source": [
    "Dans une analyse comparative, il est judicieux de normaliser pour voir comment les modèles réagissent et pour choisir celui qui fonctionne le mieux dans des conditions optimales."
   ]
  },
  {
   "cell_type": "markdown",
   "metadata": {},
   "source": [
    "Le model choisi sera <b>MLCP</b> avec ca precision qui est élevée ainsi que son F1-score"
   ]
  },
  {
   "cell_type": "markdown",
   "metadata": {},
   "source": [
    "<h4>4. Sélection de variables "
   ]
  },
  {
   "cell_type": "code",
   "execution_count": 145,
   "metadata": {},
   "outputs": [
    {
     "name": "stdout",
     "output_type": "stream",
     "text": [
      "Features sorted by their score:\n",
      "         0          1\n",
      "0   0.1481     Income\n",
      "1   0.1302  Seniority\n",
      "2   0.1227      Price\n",
      "3   0.1169     Amount\n",
      "4   0.1023        Age\n",
      "5   0.0828     Assets\n",
      "6   0.0736   Expenses\n",
      "7   0.0662    Records\n",
      "8   0.0471       Time\n",
      "9   0.0416        Job\n",
      "10  0.0324       Debt\n",
      "11  0.0202       Home\n",
      "12  0.0159    Marital\n",
      "Index(['Income', 'Seniority', 'Price', 'Amount', 'Age', 'Assets', 'Expenses',\n",
      "       'Records', 'Time', 'Job', 'Debt', 'Home', 'Marital'],\n",
      "      dtype='object')\n"
     ]
    },
    {
     "data": {
      "image/png": "[encoded data removed]",
      "text/plain": [
       "<Figure size 640x480 with 1 Axes>"
      ]
     },
     "metadata": {},
     "output_type": "display_data"
    }
   ],
   "source": [
    "from sklearn.ensemble import RandomForestClassifier\n",
    "\n",
    "clf = RandomForestClassifier(n_estimators=1000,random_state=1)\n",
    "clf.fit(X_train_scaled, y_train)\n",
    "\n",
    "importances=clf.feature_importances_\n",
    "std = np.std([tree.feature_importances_ for tree in clf.estimators_],axis=0)\n",
    "sorted_idx = np.argsort(importances)[::-1]\n",
    "\n",
    "features = data.drop(\"Status\", axis=1).columns\n",
    "print(\"Features sorted by their score:\")\n",
    "print(pd.DataFrame(sorted(zip(map(lambda x: round(x, 4), clf.feature_importances_), features), reverse=True)))\n",
    "print(features[sorted_idx])\n",
    "\n",
    "padding = np.arange(X_train_scaled.size/len(X_train_scaled)) + 0.5\n",
    "plt.barh(padding, importances[sorted_idx],xerr=std[sorted_idx], align='center')\n",
    "plt.yticks(padding, features[sorted_idx])\n",
    "plt.xlabel(\"Relative Importance\")\n",
    "plt.title(\"Variable Importance\")\n",
    "plt.show()"
   ]
  },
  {
   "cell_type": "code",
   "execution_count": 146,
   "metadata": {},
   "outputs": [
    {
     "data": {
      "image/png": "[encoded data removed]",
      "text/plain": [
       "<Figure size 640x480 with 1 Axes>"
      ]
     },
     "metadata": {},
     "output_type": "display_data"
    }
   ],
   "source": [
    "scores=np.zeros(X_train_scaled.shape[1]+1)\n",
    "\n",
    "MLPC = MLPClassifier(hidden_layer_sizes=(40, 20), random_state=1)\n",
    "\n",
    "for f in np.arange(0, X_train_scaled.shape[1]+1):\n",
    " X1_f = X_train_scaled[:,sorted_idx[:f+1]]\n",
    " X2_f = X_test_scaled[:,sorted_idx[:f+1]]\n",
    " MLPC.fit(X1_f,y_train)\n",
    " YMLCP = MLPC.predict(X2_f)\n",
    " scores[f]=np.round(((accuracy_score(y_test,YMLCP)+ precision_score(y_test,YMLCP))/2),3)\n",
    "\n",
    "\n",
    "plt.plot(scores)\n",
    "plt.grid()\n",
    "plt.xlabel(\"Nombre de Variables\")\n",
    "plt.ylabel(\"Accuracy\")\n",
    "plt.title(\"Evolution de l'accuracy en fonction des variables\")\n",
    "plt.show()"
   ]
  },
  {
   "cell_type": "markdown",
   "metadata": {},
   "source": [
    "- Observations sur les importances : <br>\n",
    "Les variables Marital (0.0159), Home (0.0202), Debt (0.0324) et Job (0.0416) ont des importances significativement plus faibles. <br>\n",
    "Ces variables sont moins susceptibles d'influencer les décisions du modèle de manière notable."
   ]
  },
  {
   "cell_type": "markdown",
   "metadata": {},
   "source": [
    "- Observations sur les scores : <br>\n",
    "Le score est relativement stable pour les variables Home (0.804) et Marital (0.804). <br>\n",
    "L'ajout de ces variables n'entraîne pas une amélioration significative des performances globales."
   ]
  },
  {
   "cell_type": "markdown",
   "metadata": {},
   "source": [
    "<h5>Variables à conserver</h5>\n",
    "Les variables ayant une importance élevée et un impact positif notable sur les scores sont à conserver :\n",
    "\n",
    "Income, Seniority, Price, Amount, Age, Assets, Expenses, Records, Time."
   ]
  },
  {
   "cell_type": "markdown",
   "metadata": {},
   "source": [
    "<h5>Variables à supprimer</h5>\n",
    "Les variables avec une faible importance et une contribution limitée aux performances globales :\n",
    "\n",
    "Marital : Importance faible (0.0159), score minimal (0.804). <br>\n",
    "Home : Importance faible (0.0202), score minimal (0.804). <br>\n",
    "Debt : Importance modérée (0.0324), mais faible amélioration du score. <br>\n",
    "Job : Importance faible (0.0416), score limité (0.806). <br>"
   ]
  },
  {
   "cell_type": "code",
   "execution_count": null,
   "metadata": {},
   "outputs": [
    {
     "name": "stdout",
     "output_type": "stream",
     "text": [
      "Features sorted by their score:\n",
      "        0          1\n",
      "0  0.1784  Seniority\n",
      "1  0.1534       Time\n",
      "2  0.1486       Home\n",
      "3  0.1407        Age\n",
      "4  0.1241    Marital\n",
      "5  0.0993    Records\n",
      "6  0.0877        Job\n",
      "7  0.0677   Expenses\n",
      "Index(['Seniority', 'Time', 'Home', 'Age', 'Marital', 'Records', 'Job',\n",
      "       'Expenses'],\n",
      "      dtype='object')\n"
     ]
    },
    {
     "data": {
      "image/png": "[encoded data removed]",
      "text/plain": [
       "<Figure size 640x480 with 1 Axes>"
      ]
     },
     "metadata": {},
     "output_type": "display_data"
    }
   ],
   "source": [
    "# selection des variables les plus importantes \n",
    "X_train = X_train_scaled[:,sorted_idx[:np.argmax(scores)+1]]\n",
    "X_test = X_test_scaled[:,sorted_idx[:np.argmax(scores)+1]]\n",
    "\n",
    "clf = RandomForestClassifier(n_estimators=1000,random_state=1)\n",
    "clf.fit(X_train, y_train)\n",
    "\n",
    "importances=clf.feature_importances_\n",
    "\n",
    "std = np.std([tree.feature_importances_ for tree in clf.estimators_],axis=0)\n",
    "sorted_idx = np.argsort(importances)[::-1]\n",
    "features = data.drop(\"Status\", axis=1).columns\n",
    "\n",
    "# print the result in a pd frame\n",
    "print(\"Features sorted by their score:\")\n",
    "print(pd.DataFrame(sorted(zip(map(lambda x: round(x, 4), clf.feature_importances_), features), reverse=True))\n",
    ")\n",
    "\n",
    "print(features[sorted_idx])\n",
    "padding = np.arange(X_train.size/len(X_train)) + 0.5\n",
    "plt.barh(padding, importances[sorted_idx],xerr=std[sorted_idx], align='center')\n",
    "plt.yticks(padding, features[sorted_idx])\n",
    "plt.xlabel(\"Relative Importance\")\n",
    "plt.title(\"Variable Importance\")\n",
    "plt.show()\n",
    "\n"
   ]
  },
  {
   "cell_type": "code",
   "execution_count": 148,
   "metadata": {},
   "outputs": [
    {
     "name": "stdout",
     "output_type": "stream",
     "text": [
      "Scores\n",
      "           Scores\n",
      "0           0.744\n",
      "Seniority   0.745\n",
      "Time        0.761\n",
      "Home        0.781\n",
      "Age         0.783\n",
      "Marital     0.790\n",
      "Records     0.796\n",
      "Job         0.811\n",
      "Expenses    0.816\n"
     ]
    },
    {
     "data": {
      "image/png": "[encoded data removed]",
      "text/plain": [
       "<Figure size 640x480 with 1 Axes>"
      ]
     },
     "metadata": {},
     "output_type": "display_data"
    }
   ],
   "source": [
    "scores=np.zeros(X_train.shape[1]+1)\n",
    "\n",
    "MLPC = MLPClassifier()\n",
    "for f in np.arange(0, X_train.shape[1]+1):\n",
    " X1_f = X_train[:,sorted_idx[:f+1]]\n",
    " X2_f = X_test[:,sorted_idx[:f+1]]\n",
    " MLPC.fit(X1_f,y_train)\n",
    " YMLCP = MLPC.predict(X2_f)\n",
    " scores[f]=np.round(((accuracy_score(y_test,YMLCP)+ precision_score(y_test,YMLCP))/2),3)\n",
    "\n",
    "# print the result in a pd frame\n",
    "print(\"Scores\")\n",
    "# add a column of the name of the variables to the scores\n",
    "print(pd.DataFrame(scores, columns=[\"Scores\"], index=np.append(\"0\",features[sorted_idx])))\n",
    "\n",
    "\n",
    "plt.plot(scores)\n",
    "plt.grid()\n",
    "plt.xlabel(\"Nombre de Variables\")\n",
    "plt.ylabel(\"Accuracy\")\n",
    "plt.title(\"Evolution de l'accuracy en fonction des variables\")\n",
    "plt.show()"
   ]
  },
  {
   "cell_type": "markdown",
   "metadata": {},
   "source": [
    "<h4>5. Paramétrage des classifieurs"
   ]
  },
  {
   "cell_type": "code",
   "execution_count": 149,
   "metadata": {},
   "outputs": [
    {
     "name": "stdout",
     "output_type": "stream",
     "text": [
      "Meilleurs paramètres: {'activation': 'relu', 'alpha': 0.01, 'hidden_layer_sizes': (20, 10), 'learning_rate': 'constant'}\n",
      "Meilleur score: 0.7952522322654519\n"
     ]
    }
   ],
   "source": [
    "from sklearn.model_selection import GridSearchCV\n",
    "\n",
    "param_grid = {\n",
    "    'hidden_layer_sizes': [(20, 10), (40, 20), (60, 30)],\n",
    "    # 'activation': ['relu', 'tanh'],\n",
    "    # 'alpha': [0.0001, 0.001, 0.01],\n",
    "    # 'learning_rate': ['constant', 'adaptive']\n",
    "}\n",
    "\n",
    "mlpc = MLPClassifier(random_state=1)\n",
    "grid_search = GridSearchCV(mlpc, param_grid, cv=5, scoring=lambda clf, X, y: (accuracy_score(y, clf.predict(X)) + precision_score(y, clf.predict(X))) / 2)\n",
    "grid_search.fit(X_train, y_train)\n",
    "\n",
    "print(\"Meilleurs paramètres:\", grid_search.best_params_)\n",
    "print(\"Meilleur score:\", grid_search.best_score_)"
   ]
  },
  {
   "cell_type": "markdown",
   "metadata": {},
   "source": [
    "<h4>6. Création d’un pipeline"
   ]
  },
  {
   "cell_type": "code",
   "execution_count": 150,
   "metadata": {},
   "outputs": [
    {
     "name": "stdout",
     "output_type": "stream",
     "text": [
      "Accuracy du pipeline chargé: 0.796617915904936\n"
     ]
    }
   ],
   "source": [
    "from sklearn.pipeline import Pipeline\n",
    "from sklearn.decomposition import PCA\n",
    "import pickle\n",
    "\n",
    "pipeline = Pipeline([\n",
    "    ('scaler', StandardScaler()),    # Normalisation\n",
    "    ('pca', PCA()),                  # ACP\n",
    "    ('classifier', MLPClassifier(**grid_search.best_params_, random_state=1))  # Classifieur\n",
    "])\n",
    "\n",
    "pipeline.fit(X_train, y_train)\n",
    "\n",
    "# sauvegarde du pipeline\n",
    "with open('credit_scoring_pipeline.pkl', 'wb') as f:\n",
    "    pickle.dump(pipeline, f)\n",
    "\n",
    "# Code pour utiliser le pipeline sauvegardé\n",
    "with open('credit_scoring_pipeline.pkl', 'rb') as f:\n",
    "    loaded_pipeline = pickle.load(f)\n",
    "\n",
    "y_pred = loaded_pipeline.predict(X_test)\n",
    "print(\"Accuracy du pipeline chargé:\", accuracy_score(y_test, y_pred))\n"
   ]
  },
  {
   "cell_type": "markdown",
   "metadata": {},
   "source": [
    "<h4>7. Comparaison de plusieurs algorithmes d’apprentissage"
   ]
  },
  {
   "cell_type": "code",
   "execution_count": null,
   "metadata": {},
   "outputs": [
    {
     "name": "stdout",
     "output_type": "stream",
     "text": [
      "Collecting xgboost\n",
      "  Downloading xgboost-2.1.3-py3-none-win_amd64.whl (124.9 MB)\n",
      "     -------------------------------------- 124.9/124.9 MB 1.6 MB/s eta 0:00:00\n",
      "Requirement already satisfied: scipy in c:\\users\\hp.laptop-esrmf9mq\\anaconda3\\anaconda\\lib\\site-packages (from xgboost) (1.10.0)\n",
      "Requirement already satisfied: numpy in c:\\users\\hp.laptop-esrmf9mq\\anaconda3\\anaconda\\lib\\site-packages (from xgboost) (1.23.5)\n",
      "Installing collected packages: xgboost\n",
      "Successfully installed xgboost-2.1.3\n",
      "Note: you may need to restart the kernel to use updated packages.\n",
      "Résultats pour MLPC:\n",
      "Accuracy: 0.634 +/- 0.092\n",
      "AUC: 0.708 +/- 0.033\n",
      "(Accuracy + Précision) / 2: 0.734 +/- 0.031\n",
      "Temps d'exécution: 18.76 secondes\n",
      "\n",
      "Résultats pour RF:\n",
      "Accuracy: 0.786 +/- 0.015\n",
      "AUC: 0.829 +/- 0.018\n",
      "(Accuracy + Précision) / 2: 0.802 +/- 0.014\n",
      "Temps d'exécution: 34.89 secondes\n",
      "\n",
      "Résultats pour KNN:\n",
      "Accuracy: 0.715 +/- 0.017\n",
      "AUC: 0.662 +/- 0.027\n",
      "(Accuracy + Précision) / 2: 0.741 +/- 0.017\n",
      "Temps d'exécution: 0.70 secondes\n",
      "\n",
      "Résultats pour XGboost:\n",
      "Accuracy: 0.765 +/- 0.018\n",
      "AUC: 0.805 +/- 0.022\n",
      "(Accuracy + Précision) / 2: 0.793 +/- 0.017\n",
      "Temps d'exécution: 7.23 secondes\n",
      "\n",
      "Résultats pour ID3:\n",
      "Accuracy: 0.723 +/- 0.024\n",
      "AUC: 0.664 +/- 0.029\n",
      "(Accuracy + Précision) / 2: 0.769 +/- 0.026\n",
      "Temps d'exécution: 0.72 secondes\n",
      "\n"
     ]
    }
   ],
   "source": [
    "from sklearn.model_selection import cross_val_score, KFold\n",
    "from sklearn.metrics import roc_auc_score\n",
    "from xgboost import XGBClassifier\n",
    "import time\n",
    "\n",
    "def run_classifiers(clfs, X, y):\n",
    "    kf = KFold(n_splits=10, shuffle=True, random_state=0)\n",
    "    \n",
    "    # save in a pdframe\n",
    "    result = pd.DataFrame(columns=)\n",
    "    for name, clf in clfs.items():\n",
    "        start_time = time.time()\n",
    "        \n",
    "        cv_acc = cross_val_score(clf, X, y, cv=kf, scoring='accuracy')\n",
    "        cv_auc = cross_val_score(clf, X, y, cv=kf, scoring='roc_auc')\n",
    "        cv_custom = cross_val_score(clf, X, y, cv=kf, scoring=lambda clf, X, y: (accuracy_score(y, clf.predict(X)) + precision_score(y, clf.predict(X))) / 2)\n",
    "        \n",
    "        end_time = time.time()\n",
    "        \n",
    "        print(f\"Résultats pour {name}:\")\n",
    "        print(f\"Accuracy: {np.mean(cv_acc):.3f} +/- {np.std(cv_acc):.3f}\")\n",
    "        print(f\"AUC: {np.mean(cv_auc):.3f} +/- {np.std(cv_auc):.3f}\")\n",
    "        print(f\"(Accuracy + Précision) / 2: {np.mean(cv_custom):.3f} +/- {np.std(cv_custom):.3f}\")\n",
    "        print(f\"Temps d'exécution: {end_time - start_time:.2f} secondes\\n\")\n",
    "\n",
    "# Utilisation de la fonction\n",
    "clfs = {\n",
    "    'MLPC': MLPClassifier(**grid_search.best_params_, random_state=1),\n",
    "    'RF': RandomForestClassifier(n_estimators=200, random_state=1),\n",
    "    'KNN': KNeighborsClassifier(n_neighbors=5),\n",
    "    'XGboost': XGBClassifier(n_estimators=200, random_state=1),\n",
    "    'ID3': DecisionTreeClassifier(criterion='entropy', random_state=1),\n",
    "}\n",
    "\n",
    "run_classifiers(clfs, X, y)"
   ]
  },
  {
   "cell_type": "markdown",
   "metadata": {},
   "source": [
    "<h2>II. Apprentissage supervisé : Données hétérogènes"
   ]
  },
  {
   "cell_type": "markdown",
   "metadata": {},
   "source": [
    "Le fichier \"credit.data\" comporte 688 instances décrites par 15 variables caractéristiques (6 numériques, 9\n",
    "catégorielles) et la variable à prédire \"classe\" (la dernière colonne du fichier) de nature nominale possédant un\n",
    "nombre fini de valeurs (ici deux valeurs \"+\" et \"–\"). Il ne s’agit pas d’une tâche de régression, mais de\n",
    "classification. Les exemples de ce jeu de données représentent des personnes (positifs et négatifs) pour lesquels\n",
    "un crédit a été accordé ou non. \n",
    "(https://archive.ics.uci.edu/ml/datasets/Credit+Approval)"
   ]
  },
  {
   "cell_type": "code",
   "execution_count": 160,
   "metadata": {},
   "outputs": [],
   "source": [
    "from sklearn.impute import SimpleImputer\n",
    "from sklearn.preprocessing import OneHotEncoder"
   ]
  },
  {
   "cell_type": "markdown",
   "metadata": {},
   "source": [
    "<h4> 1. Traitement des caractéristiques continues sans données manquantes"
   ]
  },
  {
   "cell_type": "markdown",
   "metadata": {},
   "source": [
    "<h5>Chargement et préparation des données"
   ]
  },
  {
   "cell_type": "code",
   "execution_count": 164,
   "metadata": {},
   "outputs": [
    {
     "data": {
      "text/html": [
       "<div>\n",
       "<style scoped>\n",
       "    .dataframe tbody tr th:only-of-type {\n",
       "        vertical-align: middle;\n",
       "    }\n",
       "\n",
       "    .dataframe tbody tr th {\n",
       "        vertical-align: top;\n",
       "    }\n",
       "\n",
       "    .dataframe thead th {\n",
       "        text-align: right;\n",
       "    }\n",
       "</style>\n",
       "<table border=\"1\" class=\"dataframe\">\n",
       "  <thead>\n",
       "    <tr style=\"text-align: right;\">\n",
       "      <th></th>\n",
       "      <th>0</th>\n",
       "      <th>1</th>\n",
       "      <th>2</th>\n",
       "      <th>3</th>\n",
       "      <th>4</th>\n",
       "      <th>5</th>\n",
       "      <th>6</th>\n",
       "      <th>7</th>\n",
       "      <th>8</th>\n",
       "      <th>9</th>\n",
       "      <th>10</th>\n",
       "      <th>11</th>\n",
       "      <th>12</th>\n",
       "      <th>13</th>\n",
       "      <th>14</th>\n",
       "      <th>15</th>\n",
       "    </tr>\n",
       "  </thead>\n",
       "  <tbody>\n",
       "    <tr>\n",
       "      <th>0</th>\n",
       "      <td>b</td>\n",
       "      <td>30.83</td>\n",
       "      <td>0.000</td>\n",
       "      <td>u</td>\n",
       "      <td>g</td>\n",
       "      <td>w</td>\n",
       "      <td>v</td>\n",
       "      <td>1.25</td>\n",
       "      <td>t</td>\n",
       "      <td>t</td>\n",
       "      <td>1</td>\n",
       "      <td>f</td>\n",
       "      <td>g</td>\n",
       "      <td>202</td>\n",
       "      <td>0</td>\n",
       "      <td>+</td>\n",
       "    </tr>\n",
       "    <tr>\n",
       "      <th>1</th>\n",
       "      <td>a</td>\n",
       "      <td>58.67</td>\n",
       "      <td>4.460</td>\n",
       "      <td>u</td>\n",
       "      <td>g</td>\n",
       "      <td>q</td>\n",
       "      <td>h</td>\n",
       "      <td>3.04</td>\n",
       "      <td>t</td>\n",
       "      <td>t</td>\n",
       "      <td>6</td>\n",
       "      <td>f</td>\n",
       "      <td>g</td>\n",
       "      <td>43</td>\n",
       "      <td>560</td>\n",
       "      <td>+</td>\n",
       "    </tr>\n",
       "    <tr>\n",
       "      <th>2</th>\n",
       "      <td>a</td>\n",
       "      <td>24.50</td>\n",
       "      <td>0.500</td>\n",
       "      <td>u</td>\n",
       "      <td>g</td>\n",
       "      <td>q</td>\n",
       "      <td>h</td>\n",
       "      <td>1.50</td>\n",
       "      <td>t</td>\n",
       "      <td>f</td>\n",
       "      <td>0</td>\n",
       "      <td>f</td>\n",
       "      <td>g</td>\n",
       "      <td>280</td>\n",
       "      <td>824</td>\n",
       "      <td>+</td>\n",
       "    </tr>\n",
       "    <tr>\n",
       "      <th>3</th>\n",
       "      <td>b</td>\n",
       "      <td>27.83</td>\n",
       "      <td>1.540</td>\n",
       "      <td>u</td>\n",
       "      <td>g</td>\n",
       "      <td>w</td>\n",
       "      <td>v</td>\n",
       "      <td>3.75</td>\n",
       "      <td>t</td>\n",
       "      <td>t</td>\n",
       "      <td>5</td>\n",
       "      <td>t</td>\n",
       "      <td>g</td>\n",
       "      <td>100</td>\n",
       "      <td>3</td>\n",
       "      <td>+</td>\n",
       "    </tr>\n",
       "    <tr>\n",
       "      <th>4</th>\n",
       "      <td>b</td>\n",
       "      <td>20.17</td>\n",
       "      <td>5.625</td>\n",
       "      <td>u</td>\n",
       "      <td>g</td>\n",
       "      <td>w</td>\n",
       "      <td>v</td>\n",
       "      <td>1.71</td>\n",
       "      <td>t</td>\n",
       "      <td>f</td>\n",
       "      <td>0</td>\n",
       "      <td>f</td>\n",
       "      <td>s</td>\n",
       "      <td>120</td>\n",
       "      <td>0</td>\n",
       "      <td>+</td>\n",
       "    </tr>\n",
       "    <tr>\n",
       "      <th>...</th>\n",
       "      <td>...</td>\n",
       "      <td>...</td>\n",
       "      <td>...</td>\n",
       "      <td>...</td>\n",
       "      <td>...</td>\n",
       "      <td>...</td>\n",
       "      <td>...</td>\n",
       "      <td>...</td>\n",
       "      <td>...</td>\n",
       "      <td>...</td>\n",
       "      <td>...</td>\n",
       "      <td>...</td>\n",
       "      <td>...</td>\n",
       "      <td>...</td>\n",
       "      <td>...</td>\n",
       "      <td>...</td>\n",
       "    </tr>\n",
       "    <tr>\n",
       "      <th>683</th>\n",
       "      <td>b</td>\n",
       "      <td>21.08</td>\n",
       "      <td>10.085</td>\n",
       "      <td>y</td>\n",
       "      <td>p</td>\n",
       "      <td>e</td>\n",
       "      <td>h</td>\n",
       "      <td>1.25</td>\n",
       "      <td>f</td>\n",
       "      <td>f</td>\n",
       "      <td>0</td>\n",
       "      <td>f</td>\n",
       "      <td>g</td>\n",
       "      <td>260</td>\n",
       "      <td>0</td>\n",
       "      <td>-</td>\n",
       "    </tr>\n",
       "    <tr>\n",
       "      <th>684</th>\n",
       "      <td>a</td>\n",
       "      <td>22.67</td>\n",
       "      <td>0.750</td>\n",
       "      <td>u</td>\n",
       "      <td>g</td>\n",
       "      <td>c</td>\n",
       "      <td>v</td>\n",
       "      <td>2.00</td>\n",
       "      <td>f</td>\n",
       "      <td>t</td>\n",
       "      <td>2</td>\n",
       "      <td>t</td>\n",
       "      <td>g</td>\n",
       "      <td>200</td>\n",
       "      <td>394</td>\n",
       "      <td>-</td>\n",
       "    </tr>\n",
       "    <tr>\n",
       "      <th>685</th>\n",
       "      <td>a</td>\n",
       "      <td>25.25</td>\n",
       "      <td>13.500</td>\n",
       "      <td>y</td>\n",
       "      <td>p</td>\n",
       "      <td>ff</td>\n",
       "      <td>ff</td>\n",
       "      <td>2.00</td>\n",
       "      <td>f</td>\n",
       "      <td>t</td>\n",
       "      <td>1</td>\n",
       "      <td>t</td>\n",
       "      <td>g</td>\n",
       "      <td>200</td>\n",
       "      <td>1</td>\n",
       "      <td>-</td>\n",
       "    </tr>\n",
       "    <tr>\n",
       "      <th>686</th>\n",
       "      <td>b</td>\n",
       "      <td>17.92</td>\n",
       "      <td>0.205</td>\n",
       "      <td>u</td>\n",
       "      <td>g</td>\n",
       "      <td>aa</td>\n",
       "      <td>v</td>\n",
       "      <td>0.04</td>\n",
       "      <td>f</td>\n",
       "      <td>f</td>\n",
       "      <td>0</td>\n",
       "      <td>f</td>\n",
       "      <td>g</td>\n",
       "      <td>280</td>\n",
       "      <td>750</td>\n",
       "      <td>-</td>\n",
       "    </tr>\n",
       "    <tr>\n",
       "      <th>687</th>\n",
       "      <td>b</td>\n",
       "      <td>35.00</td>\n",
       "      <td>3.375</td>\n",
       "      <td>u</td>\n",
       "      <td>g</td>\n",
       "      <td>c</td>\n",
       "      <td>h</td>\n",
       "      <td>8.29</td>\n",
       "      <td>f</td>\n",
       "      <td>f</td>\n",
       "      <td>0</td>\n",
       "      <td>t</td>\n",
       "      <td>g</td>\n",
       "      <td>0</td>\n",
       "      <td>0</td>\n",
       "      <td>-</td>\n",
       "    </tr>\n",
       "  </tbody>\n",
       "</table>\n",
       "<p>688 rows × 16 columns</p>\n",
       "</div>"
      ],
      "text/plain": [
       "    0      1       2  3  4   5   6     7  8  9   10 11 12   13   14 15\n",
       "0    b  30.83   0.000  u  g   w   v  1.25  t  t   1  f  g  202    0  +\n",
       "1    a  58.67   4.460  u  g   q   h  3.04  t  t   6  f  g   43  560  +\n",
       "2    a  24.50   0.500  u  g   q   h  1.50  t  f   0  f  g  280  824  +\n",
       "3    b  27.83   1.540  u  g   w   v  3.75  t  t   5  t  g  100    3  +\n",
       "4    b  20.17   5.625  u  g   w   v  1.71  t  f   0  f  s  120    0  +\n",
       "..  ..    ...     ... .. ..  ..  ..   ... .. ..  .. .. ..  ...  ... ..\n",
       "683  b  21.08  10.085  y  p   e   h  1.25  f  f   0  f  g  260    0  -\n",
       "684  a  22.67   0.750  u  g   c   v  2.00  f  t   2  t  g  200  394  -\n",
       "685  a  25.25  13.500  y  p  ff  ff  2.00  f  t   1  t  g  200    1  -\n",
       "686  b  17.92   0.205  u  g  aa   v  0.04  f  f   0  f  g  280  750  -\n",
       "687  b  35.00   3.375  u  g   c   h  8.29  f  f   0  t  g    0    0  -\n",
       "\n",
       "[688 rows x 16 columns]"
      ]
     },
     "execution_count": 164,
     "metadata": {},
     "output_type": "execute_result"
    }
   ],
   "source": [
    "# Importer le jeu de données\n",
    "data = pd.read_csv(\"credit.data\", header=None, sep='\\t' )\n",
    "data"
   ]
  },
  {
   "cell_type": "code",
   "execution_count": 168,
   "metadata": {},
   "outputs": [
    {
     "name": "stdout",
     "output_type": "stream",
     "text": [
      "(688, 15)\n",
      "(688,)\n"
     ]
    }
   ],
   "source": [
    "# Séparer les variables caractéristiques de la variable à prédire\n",
    "X = data.iloc[:, :-1].values\n",
    "y = data.iloc[:, -1].values\n",
    "print(X.shape)\n",
    "print(y.shape)"
   ]
  },
  {
   "cell_type": "code",
   "execution_count": null,
   "metadata": {},
   "outputs": [],
   "source": [
    "# Garder uniquement les variables numériques\n",
    "numeric_columns = "
   ]
  }
 ],
 "metadata": {
  "kernelspec": {
   "display_name": "base",
   "language": "python",
   "name": "python3"
  },
  "language_info": {
   "codemirror_mode": {
    "name": "ipython",
    "version": 3
   },
   "file_extension": ".py",
   "mimetype": "text/x-python",
   "name": "python",
   "nbconvert_exporter": "python",
   "pygments_lexer": "ipython3",
   "version": "3.10.14"
  }
 },
 "nbformat": 4,
 "nbformat_minor": 2
}
